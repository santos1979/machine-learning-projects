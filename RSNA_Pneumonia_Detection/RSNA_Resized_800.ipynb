{
 "cells": [
  {
   "cell_type": "markdown",
   "id": "2931ed9a-f0fb-448a-a892-aa2b55fdc442",
   "metadata": {},
   "source": [
    "Introduction\n",
    "\n",
    "The images were converted from DICOM (.dcm) to PNG (.png) format in Google Colab as the initial part of the \n",
    "RSNA_Pneumonia_Detection_Challenge_dcm_to_png.ipynb workflow. \n",
    "This conversion step is essential for preparing medical imaging datasets, particularly for tasks like pneumonia detection in \n",
    "chest X-rays, by transforming DICOM files into a more accessible and widely supported image format.\n",
    "\n",
    "This workflow includes the following key steps:\n",
    "\n",
    "Resize Images :\n",
    "Resizes all PNG images to a fixed resolution of 800x800 pixels using OpenCV's Lanczos interpolation method to ensure high-quality \n",
    "resizing.\n",
    "\n",
    "Verify Image Properties :\n",
    "Randomly samples images to verify their dimensions (800x800 pixels) and file sizes in KB, ensuring consistency across the dataset.\n",
    "\n",
    "Clean Up Original Data :\n",
    "Deletes or moves the original folder containing unresized images to free up space after processing.\n",
    "\n",
    "Inspect Directory Contents :\n",
    "Lists the contents of the working directory to provide an overview of the processed files and folder structure.\n",
    "This pipeline is designed to streamline the preparation of medical imaging datasets, ensuring uniformity in \n",
    "image size and organization, which is critical for training robust machine learning models."
   ]
  },
  {
   "cell_type": "code",
   "execution_count": 1,
   "id": "57573ae5-9a44-4300-8d49-e79e963b920d",
   "metadata": {
    "execution": {
     "iopub.execute_input": "2025-02-21T15:24:03.900132Z",
     "iopub.status.busy": "2025-02-21T15:24:03.899225Z",
     "iopub.status.idle": "2025-02-21T15:42:34.222292Z",
     "shell.execute_reply": "2025-02-21T15:42:34.221436Z",
     "shell.execute_reply.started": "2025-02-21T15:24:03.900105Z"
    }
   },
   "outputs": [
    {
     "name": "stderr",
     "output_type": "stream",
     "text": [
      "Redimensionando imagens: 100%|██████████| 26684/26684 [18:30<00:00, 24.04it/s]\n"
     ]
    }
   ],
   "source": [
    "import os\n",
    "import cv2\n",
    "from tqdm import tqdm\n",
    "\n",
    "# Source folder (original images)\n",
    "source_folder = \"/notebooks/RSNA_PNG_Images/\"\n",
    "\n",
    "# Destination folder for resized images\n",
    "destination_folder = \"/notebooks/RSNA_Resized_800/\"\n",
    "\n",
    "# Create the destination folder if it doesn't exist\n",
    "if not os.path.exists(destination_folder):\n",
    "    os.makedirs(destination_folder)\n",
    "\n",
    "# Define target resolution (width x height)\n",
    "TARGET_SIZE = (800, 800)\n",
    "\n",
    "# Get the list of files from the source folder\n",
    "image_files = os.listdir(source_folder)\n",
    "\n",
    "# Process each image\n",
    "for file in tqdm(image_files, desc=\"Resizing images\"):\n",
    "    if file.lower().endswith(\".png\"):\n",
    "        src_path = os.path.join(source_folder, file)\n",
    "        dst_path = os.path.join(destination_folder, file)\n",
    "\n",
    "        # Read the image in grayscale (since the data are X-rays)\n",
    "        image = cv2.imread(src_path, cv2.IMREAD_GRAYSCALE)\n",
    "        if image is not None:\n",
    "            # Resize the image using Lanczos method for better quality\n",
    "            resized_image = cv2.resize(image, TARGET_SIZE, interpolation=cv2.INTER_LANCZOS4)\n",
    "            # Save the resized image to the destination folder\n",
    "            cv2.imwrite(dst_path, resized_image)\n",
    "        else:\n",
    "            print(f\"Error loading image: {file}\")"
   ]
  },
  {
   "cell_type": "code",
   "execution_count": 2,
   "id": "5e23eb61-1557-4c88-b2d2-4c69abb87db3",
   "metadata": {
    "execution": {
     "iopub.execute_input": "2025-02-21T15:42:43.723570Z",
     "iopub.status.busy": "2025-02-21T15:42:43.722667Z",
     "iopub.status.idle": "2025-02-21T15:42:44.095091Z",
     "shell.execute_reply": "2025-02-21T15:42:44.094137Z",
     "shell.execute_reply.started": "2025-02-21T15:42:43.723529Z"
    }
   },
   "outputs": [
    {
     "name": "stdout",
     "output_type": "stream",
     "text": [
      "Imagem: 091fa211-36c0-42a4-bd7d-c8bced664d9d.png - Tamanho: (800, 800)\n",
      "Imagem: 7d042363-6a99-4925-a9ae-886d298fcdbf.png - Tamanho: (800, 800)\n",
      "Imagem: 7bb5c7df-51a0-4675-9962-6407d0160c65.png - Tamanho: (800, 800)\n",
      "Imagem: c76ee8f0-c26c-4538-883d-cd7994a52779.png - Tamanho: (800, 800)\n",
      "Imagem: 39d5e1bf-8092-4bc7-af98-f2a5dcd4c39d.png - Tamanho: (800, 800)\n"
     ]
    }
   ],
   "source": [
    "import random\n",
    "\n",
    "# Folder where the resized images were saved\n",
    "resized_folder = \"/notebooks/RSNA_Resized_800/\"\n",
    "\n",
    "# Get the list of available images\n",
    "image_files = os.listdir(resized_folder)\n",
    "\n",
    "# Select 5 random images\n",
    "sample_images = random.sample(image_files, 5)\n",
    "\n",
    "# Check the dimensions of the selected images\n",
    "for img_name in sample_images:\n",
    "    img_path = os.path.join(resized_folder, img_name)\n",
    "    image = cv2.imread(img_path, cv2.IMREAD_GRAYSCALE)\n",
    "\n",
    "    if image is not None:\n",
    "        print(f\"Image: {img_name} - Size: {image.shape}\")\n",
    "    else:\n",
    "        print(f\"⚠️ Error loading: {img_name}\")"
   ]
  },
  {
   "cell_type": "code",
   "execution_count": 3,
   "id": "f0ccc104-3c5a-4b08-b8d4-b8d1ef77ed78",
   "metadata": {
    "execution": {
     "iopub.execute_input": "2025-02-21T15:43:22.262498Z",
     "iopub.status.busy": "2025-02-21T15:43:22.262180Z",
     "iopub.status.idle": "2025-02-21T15:43:22.287153Z",
     "shell.execute_reply": "2025-02-21T15:43:22.286052Z",
     "shell.execute_reply.started": "2025-02-21T15:43:22.262474Z"
    }
   },
   "outputs": [
    {
     "name": "stdout",
     "output_type": "stream",
     "text": [
      "Imagem: b39023e8-9092-44a9-a999-8f98ebae0958.png - Tamanho: 291.33 KB\n",
      "Imagem: 6ae40616-cee1-4d80-a5bc-878bce7f8ac9.png - Tamanho: 270.73 KB\n",
      "Imagem: c87992ba-0fed-475e-9391-a8d2acd82bde.png - Tamanho: 228.25 KB\n",
      "Imagem: d3fbcb3d-b39c-4c8b-a23d-ae786dc11bfe.png - Tamanho: 240.15 KB\n",
      "Imagem: 9f80d9c7-5ed4-40bf-8535-8289717d3264.png - Tamanho: 286.21 KB\n"
     ]
    }
   ],
   "source": [
    "# Folder where the resized images were saved\n",
    "resized_folder = \"/notebooks/RSNA_Resized_800/\"\n",
    "\n",
    "# Get the list of available images\n",
    "image_files = os.listdir(resized_folder)\n",
    "\n",
    "# Select 5 random images\n",
    "sample_images = random.sample(image_files, 5)\n",
    "\n",
    "# Check the sizes of the selected images\n",
    "for img_name in sample_images:\n",
    "    img_path = os.path.join(resized_folder, img_name)\n",
    "\n",
    "    # Get file size in KB\n",
    "    file_size_kb = os.path.getsize(img_path) / 1024  # Convert bytes to KB\n",
    "\n",
    "    print(f\"Image: {img_name} - Size: {file_size_kb:.2f} KB\")"
   ]
  },
  {
   "cell_type": "code",
   "execution_count": 4,
   "id": "d6d488be-5d4e-4520-8df3-63db7e6115b4",
   "metadata": {
    "execution": {
     "iopub.execute_input": "2025-02-21T15:46:58.237081Z",
     "iopub.status.busy": "2025-02-21T15:46:58.236754Z",
     "iopub.status.idle": "2025-02-21T15:47:13.117097Z",
     "shell.execute_reply": "2025-02-21T15:47:13.116233Z",
     "shell.execute_reply.started": "2025-02-21T15:46:58.237056Z"
    }
   },
   "outputs": [
    {
     "name": "stdout",
     "output_type": "stream",
     "text": [
      "✅ Pasta original apagada com sucesso!\n"
     ]
    }
   ],
   "source": [
    "import shutil\n",
    "\n",
    "# Delete the original folder\n",
    "shutil.rmtree(\"/notebooks/RSNA_PNG_Images/\")\n",
    "print(\"✅ Original folder deleted successfully!\")\n",
    "\n",
    "# Move the original folder to a backup location on Paperspace Drive (Persistent Storage)\n",
    "# shutil.move(\"/notebooks/RSNA_PNG_Images/\", \"/storage/RSNA_Backup/\")\n",
    "# print(\"✅ Folder moved to /storage/RSNA_Backup/\")"
   ]
  },
  {
   "cell_type": "code",
   "execution_count": 4,
   "id": "3af80676-846d-4123-b9b8-dbbfe0c45ed3",
   "metadata": {
    "execution": {
     "iopub.execute_input": "2025-03-09T15:21:16.279618Z",
     "iopub.status.busy": "2025-03-09T15:21:16.279290Z",
     "iopub.status.idle": "2025-03-09T15:21:16.406928Z",
     "shell.execute_reply": "2025-03-09T15:21:16.406109Z",
     "shell.execute_reply.started": "2025-03-09T15:21:16.279592Z"
    }
   },
   "outputs": [
    {
     "name": "stdout",
     "output_type": "stream",
     "text": [
      "total 56M\n",
      "-rw-r--r-- 1 root root  213 Feb 19 13:38 README.md\n",
      "-rw-r--r-- 1 root root 1.1M Feb 22 02:32 RSNA_Pneumonia_Detection.ipynb\n",
      "-rw-r--r-- 1 root root  14K Mar  3 12:05 RSNA_Pneumonia_Detection.py\n",
      "-rw-r--r-- 1 root root 9.0M Feb 20 15:13 RSNA_Pneumonia_Detection_rclone.ipynb\n",
      "-rw-r--r-- 1 root root 2.6M Feb 23 18:38 RSNA_Pneumonia_Detection_v1.ipynb\n",
      "-rw-r--r-- 1 root root 5.5M Feb 25 01:10 RSNA_Pneumonia_Detection_v2.ipynb\n",
      "-rw-r--r-- 1 root root 6.9M Feb 26 16:32 RSNA_Pneumonia_Detection_v3.0.ipynb\n",
      "-rw-r--r-- 1 root root 8.2M Feb 27 15:14 RSNA_Pneumonia_Detection_v3.1-IoU-Copy1.ipynb\n",
      "-rw-r--r-- 1 root root 6.9M Mar  3 19:23 RSNA_Pneumonia_Detection_v3.2-Copy1.ipynb\n",
      "-rw-r--r-- 1 root root 6.5M Mar  7 11:33 RSNA_Pneumonia_Detection_v3.3.ipynb\n",
      "-rw-r--r-- 1 root root 6.3M Mar  9 15:19 RSNA_Pneumonia_Detection_v4.ipynb\n",
      "drwxr-xr-x 2 root root  27K Feb 21 15:42 RSNA_Resized_800\n",
      "-rw-r--r-- 1 root root 9.4K Mar  9 15:19 RSNA_Resized_800.ipynb\n",
      "-rw-r--r-- 1 root root  20K Mar  3 12:16 pylint_analysis.ipynb\n",
      "drwxr-xr-x 2 root root    1 Feb 20 15:05 rclone_config\n",
      "-rw-r--r-- 1 root root 1.5M Feb 19 20:47 stage_2_train_labels.csv\n",
      "-rw-r--r-- 1 root root 1.5M Feb 24 20:13 stage_2_train_labels_800.csv\n"
     ]
    }
   ],
   "source": [
    "# List Contents of the /notebooks/ Directory\n",
    "!ls -lh /notebooks/"
   ]
  },
  {
   "cell_type": "code",
   "execution_count": null,
   "id": "117fc0e6-87a5-4ef2-9c77-d4553ea326eb",
   "metadata": {},
   "outputs": [],
   "source": []
  }
 ],
 "metadata": {
  "kernelspec": {
   "display_name": "Python 3 (ipykernel)",
   "language": "python",
   "name": "python3"
  },
  "language_info": {
   "codemirror_mode": {
    "name": "ipython",
    "version": 3
   },
   "file_extension": ".py",
   "mimetype": "text/x-python",
   "name": "python",
   "nbconvert_exporter": "python",
   "pygments_lexer": "ipython3",
   "version": "3.11.7"
  }
 },
 "nbformat": 4,
 "nbformat_minor": 5
}
